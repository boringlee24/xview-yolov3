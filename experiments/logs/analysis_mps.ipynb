{
 "cells": [
  {
   "cell_type": "code",
   "execution_count": 1,
   "metadata": {},
   "outputs": [],
   "source": [
    "import pandas as pd\n",
    "import json\n",
    "from glob import glob\n",
    "import numpy as np"
   ]
  },
  {
   "cell_type": "markdown",
   "metadata": {},
   "source": [
    "## Need to calculate RPS for each slice and add them together"
   ]
  },
  {
   "cell_type": "code",
   "execution_count": 3,
   "metadata": {},
   "outputs": [],
   "source": [
    "eligible_configs = [100, 50]\n",
    "\n",
    "mean_lat = {}\n",
    "rps = {}\n",
    "gpu_rps = {}\n",
    "energy = {}\n",
    "for config in eligible_configs:\n",
    "    jsons = glob(f'mps_config_{config}/*.json')\n",
    "    mean_lat[config] = []\n",
    "    rps[config] = []\n",
    "    for file in jsons:\n",
    "        with open(file) as f:\n",
    "            data = json.load(f)[1:]\n",
    "        mean_lat[config].append(np.mean(data))\n",
    "        rps[config].append(1000 / np.mean(data))\n",
    "    gpu_rps[config] = sum(rps[config])\n",
    "\n",
    "    df = pd.read_csv(f'mps_config_{config}/power.csv')\n",
    "    avg_pwr = df[' power.draw [W]'].mean()\n",
    "    energy[config] = avg_pwr"
   ]
  },
  {
   "cell_type": "code",
   "execution_count": 4,
   "metadata": {},
   "outputs": [
    {
     "data": {
      "text/plain": [
       "({100: [214.02210451306416], 50: [321.07863776722087, 321.1099655581948]},\n",
       " {100: [4.672414572668399], 50: [3.114501814739201, 3.1141979610058845]},\n",
       " {100: 4.672414572668399, 50: 6.228699775745086},\n",
       " {100: 159.01681349578257, 50: 214.46781676413255})"
      ]
     },
     "execution_count": 4,
     "metadata": {},
     "output_type": "execute_result"
    }
   ],
   "source": [
    "mean_lat, rps, gpu_rps, energy"
   ]
  },
  {
   "cell_type": "code",
   "execution_count": null,
   "metadata": {},
   "outputs": [],
   "source": []
  }
 ],
 "metadata": {
  "kernelspec": {
   "display_name": "pytorch1.10",
   "language": "python",
   "name": "python3"
  },
  "language_info": {
   "codemirror_mode": {
    "name": "ipython",
    "version": 3
   },
   "file_extension": ".py",
   "mimetype": "text/x-python",
   "name": "python",
   "nbconvert_exporter": "python",
   "pygments_lexer": "ipython3",
   "version": "3.10.4"
  },
  "orig_nbformat": 4
 },
 "nbformat": 4,
 "nbformat_minor": 2
}
