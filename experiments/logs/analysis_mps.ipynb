{
 "cells": [
  {
   "cell_type": "code",
   "execution_count": 7,
   "metadata": {},
   "outputs": [],
   "source": [
    "import pandas as pd\n",
    "import json\n",
    "from glob import glob\n",
    "import numpy as np"
   ]
  },
  {
   "cell_type": "markdown",
   "metadata": {},
   "source": [
    "## Need to calculate RPS for each slice and add them together"
   ]
  },
  {
   "cell_type": "code",
   "execution_count": 8,
   "metadata": {},
   "outputs": [],
   "source": [
    "eligible_configs = [100, 50, 33, 25, 20]\n",
    "\n",
    "mean_lat = {}\n",
    "rps = {}\n",
    "gpu_rps = {}\n",
    "energy = {}\n",
    "for config in eligible_configs:\n",
    "    jsons = glob(f'mps_config_{config}/*.json')\n",
    "    mean_lat[config] = []\n",
    "    rps[config] = []\n",
    "    for file in jsons:\n",
    "        with open(file) as f:\n",
    "            data = json.load(f)[1:]\n",
    "        mean_lat[config].append(np.mean(data))\n",
    "        rps[config].append(1000 / np.mean(data))\n",
    "    gpu_rps[config] = sum(rps[config])\n",
    "\n",
    "    df = pd.read_csv(f'mps_config_{config}/power.csv')\n",
    "    avg_pwr = df[' power.draw [W]'].mean()\n",
    "    energy[config] = avg_pwr"
   ]
  },
  {
   "cell_type": "code",
   "execution_count": 9,
   "metadata": {},
   "outputs": [
    {
     "data": {
      "text/plain": [
       "({100: [212.96626603325416],\n",
       "  50: [347.6503800475059, 349.13281353919234],\n",
       "  33: [464.3503004750594, 466.9445368171021, 468.3881828978622],\n",
       "  25: [601.6900106888361,\n",
       "   601.4320142517814,\n",
       "   601.5832197149643,\n",
       "   602.6241852731591],\n",
       "  20: [743.7092695961996,\n",
       "   743.575004750594,\n",
       "   743.215849168646,\n",
       "   742.6103657957245,\n",
       "   742.4773764845605]},\n",
       " {100: [4.695579345152497],\n",
       "  50: [2.876453061444522, 2.864239513504633],\n",
       "  33: [2.153546576748066, 2.1415819677780936, 2.134981275174618],\n",
       "  25: [1.6619853782434655,\n",
       "   1.6626983205143506,\n",
       "   1.6622804081433806,\n",
       "   1.6594090055425128],\n",
       "  20: [1.3446114508468539,\n",
       "   1.3448542428284216,\n",
       "   1.3455041373493182,\n",
       "   1.3466011869205143,\n",
       "   1.3468423842551849]},\n",
       " {100: 4.695579345152497,\n",
       "  50: 5.740692574949155,\n",
       "  33: 6.430109819700777,\n",
       "  25: 6.64637311244371,\n",
       "  20: 6.728413402200292},\n",
       " {100: 163.5475,\n",
       "  50: 213.95357692307695,\n",
       "  33: 240.84431952662723,\n",
       "  25: 240.98408773678963,\n",
       "  20: 243.53365404298876})"
      ]
     },
     "execution_count": 9,
     "metadata": {},
     "output_type": "execute_result"
    }
   ],
   "source": [
    "mean_lat, rps, gpu_rps, energy"
   ]
  },
  {
   "cell_type": "code",
   "execution_count": null,
   "metadata": {},
   "outputs": [],
   "source": []
  }
 ],
 "metadata": {
  "kernelspec": {
   "display_name": "pytorch1.10",
   "language": "python",
   "name": "python3"
  },
  "language_info": {
   "codemirror_mode": {
    "name": "ipython",
    "version": 3
   },
   "file_extension": ".py",
   "mimetype": "text/x-python",
   "name": "python",
   "nbconvert_exporter": "python",
   "pygments_lexer": "ipython3",
   "version": "3.10.4"
  },
  "orig_nbformat": 4
 },
 "nbformat": 4,
 "nbformat_minor": 2
}
