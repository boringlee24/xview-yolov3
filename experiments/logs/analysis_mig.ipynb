{
 "cells": [
  {
   "cell_type": "code",
   "execution_count": 1,
   "metadata": {},
   "outputs": [],
   "source": [
    "import pandas as pd\n",
    "import json\n",
    "from glob import glob\n",
    "import numpy as np"
   ]
  },
  {
   "cell_type": "markdown",
   "metadata": {},
   "source": [
    "## Need to calculate RPS for each slice and add them together"
   ]
  },
  {
   "cell_type": "code",
   "execution_count": 10,
   "metadata": {},
   "outputs": [],
   "source": [
    "eligible_configs = [0, 1, 4, 7]\n",
    "\n",
    "mean_lat = {}\n",
    "rps = {}\n",
    "gpu_rps = {}\n",
    "energy = {}\n",
    "for config in eligible_configs:\n",
    "    jsons = glob(f'mig_config_{config}/*.json')\n",
    "    mean_lat[config] = []\n",
    "    rps[config] = []\n",
    "    for file in jsons:\n",
    "        with open(file) as f:\n",
    "            data = json.load(f)[1:]\n",
    "        mean_lat[config].append(np.mean(data))\n",
    "        rps[config].append(1000 / np.mean(data))\n",
    "    gpu_rps[config] = sum(rps[config])\n",
    "\n",
    "    df = pd.read_csv(f'mig_config_{config}/power.csv')\n",
    "    avg_pwr = df[' power.draw [W]'].mean()\n",
    "    energy[config] = avg_pwr"
   ]
  },
  {
   "cell_type": "code",
   "execution_count": 11,
   "metadata": {},
   "outputs": [
    {
     "data": {
      "text/plain": [
       "({0: [214.6903135391924],\n",
       "  1: [393.59453444180525, 364.1451235154394],\n",
       "  4: [393.16298693586697, 395.023013064133],\n",
       "  7: [408.49579809976245, 630.4400783847982, 631.4866817102138]},\n",
       " {0: [4.657871999508943],\n",
       "  1: [2.5406856866500886, 2.7461578788864403],\n",
       "  4: [2.54347441958752, 2.5314980822083077],\n",
       "  7: [2.448005596757157, 1.5861935722139093, 1.5835646720082295]},\n",
       " {0: 4.657871999508943,\n",
       "  1: 5.286843565536529,\n",
       "  4: 5.074972501795828,\n",
       "  7: 5.617763840979295},\n",
       " {0: 185.7602092811647,\n",
       "  1: 211.81066231343283,\n",
       "  4: 210.53556691449816,\n",
       "  7: 225.60359047619048})"
      ]
     },
     "execution_count": 11,
     "metadata": {},
     "output_type": "execute_result"
    }
   ],
   "source": [
    "mean_lat, rps, gpu_rps, energy"
   ]
  },
  {
   "cell_type": "code",
   "execution_count": null,
   "metadata": {},
   "outputs": [],
   "source": []
  }
 ],
 "metadata": {
  "kernelspec": {
   "display_name": "pytorch1.10",
   "language": "python",
   "name": "python3"
  },
  "language_info": {
   "codemirror_mode": {
    "name": "ipython",
    "version": 3
   },
   "file_extension": ".py",
   "mimetype": "text/x-python",
   "name": "python",
   "nbconvert_exporter": "python",
   "pygments_lexer": "ipython3",
   "version": "3.10.4"
  },
  "orig_nbformat": 4
 },
 "nbformat": 4,
 "nbformat_minor": 2
}
